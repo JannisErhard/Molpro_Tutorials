{
  "nbformat": 4,
  "nbformat_minor": 0,
  "metadata": {
    "colab": {
      "name": "Tutorial_pair_density.ipynb",
      "provenance": [],
      "collapsed_sections": [],
      "toc_visible": true,
      "authorship_tag": "ABX9TyObVRXRXuuXlPDtWXEiHdh2",
      "include_colab_link": true
    },
    "kernelspec": {
      "name": "python3",
      "display_name": "Python 3"
    },
    "language_info": {
      "name": "python"
    }
  },
  "cells": [
    {
      "cell_type": "markdown",
      "metadata": {
        "id": "view-in-github",
        "colab_type": "text"
      },
      "source": [
        "<a href=\"https://colab.research.google.com/github/EgorTrushin/Molpro_Tutorials/blob/main/Tutorial_pair_density.ipynb\" target=\"_parent\"><img src=\"https://colab.research.google.com/assets/colab-badge.svg\" alt=\"Open In Colab\"/></a>"
      ]
    },
    {
      "cell_type": "markdown",
      "metadata": {
        "id": "Xpz0pkrsI7vf"
      },
      "source": [
        "# Calculation of pair densities\n",
        "\n",
        "**Author:** Egor Trushin  \n",
        "**Date created:** 04/05/2021  \n",
        "**Last modified:** 09/05/2021\n",
        "\n",
        "---\n",
        "## Input\n",
        "\n",
        "To perform calculation of pair densities one have to specify **plotp2=1** in input file. Additionally, one have to point out names of two grid-files **grid1** and **grid2** together with the number of grid-points **grid1n** and **grid2n** in each file, respectively. **grid1n** contains grid-points for which pair densities are calculated. **grid2n** contains positions of reference electron.\n",
        "Both files have the format:\n",
        "> $x_1, y_1, z_1$  \n",
        "> $x_2, y_2, z_2$  \n",
        "> $\\dots$  \n",
        "> $x_n, y_n, z_n$  \n",
        "\n",
        "During calculation, files with results are written for all specified positions of reference electron. These files are named as **pmat1.dat**, **pmat2.dat**, etc. Each file contains ...\n",
        "\n",
        "Additional tests can be performed ... **testp2=1** ... **ntestp2**\n",
        "\n",
        "For instance, additional line in input file might be \n",
        "```\n",
        "plotp2=1, grid1='GridVal', grid1n=20001, grid2='GridRE', grid2n=2, testp2=1, ntestp2=100\n",
        "```\n",
        "\n",
        "---\n",
        "## Examples\n",
        "\n",
        "At the moment pair density calculations are implemented only inside **rirpa** driver, i.e., for the case of non-spin-polarized and only for RPA.\n",
        "\n",
        "in supporting information of Ref. [1].\n",
        "\n",
        "### Correlation contribution to pair density for hydrogen molecule: RPA\n",
        "\n",
        "```\n",
        "memory,10000,m\n",
        "\n",
        "basis={\n",
        "default,aug-cc-pV6Z\n",
        "set,ri;default,aug-cc-pV5Z/mp2fit\n",
        "}\n",
        "\n",
        "symmetry,nosym\n",
        "angstrom\n",
        "geometry={\n",
        "2\n",
        "\n",
        "H       0.000000    0.000000    -0.370715095\n",
        "H       0.000000    0.000000     0.370715095\n",
        "}\n",
        "\n",
        "df-ks,pbe,df_basis=aug-cc-pwCV5Z/mp2fit,maxit=60\n",
        "{cfit,basis_coul=aug-cc-pwCV5Z/mp2fit,basis_exch=aug-cc-pwCV5Z/mp2fit}\n",
        "\n",
        "user,rirpa,rpa=1,\\\n",
        "orb=2100.2,\\\n",
        "charge=1,homo=0,\\\n",
        "nquad=100,\\\n",
        "thr_x0=1d-10,\\\n",
        "dfit=1,direct=1,\\\n",
        "thr_overlap_ri=1d-10,thr_fai_ri=1d-10,\\\n",
        "plotp2=1,testp2=1,grid1='GridVal',grid1n=3000,grid2='GridRE',grid2n=2,ntestp2=100\n",
        "```\n",
        "\n",
        "### Correlation contribution to pair density for hydrogen molecule: RPA with scaled Coulomb kernel\n",
        "\n",
        "```\n",
        "memory,10000,m\n",
        "\n",
        "basis={\n",
        "default,aug-cc-pV6Z\n",
        "set,ri;default,aug-cc-pV5Z/mp2fit\n",
        "}\n",
        "\n",
        "symmetry,nosym\n",
        "angstrom\n",
        "geometry={\n",
        "2\n",
        "\n",
        "H       0.000000    0.000000    -0.370715095\n",
        "H       0.000000    0.000000     0.370715095\n",
        "}\n",
        "\n",
        "df-ks,pbe,df_basis=aug-cc-pwCV5Z/mp2fit,maxit=60\n",
        "{cfit,basis_coul=aug-cc-pwCV5Z/mp2fit,basis_exch=aug-cc-pwCV5Z/mp2fit}\n",
        "\n",
        "user,rirpa,rpa=1,orb=2100.2,\\\n",
        "nquad=100,\\\n",
        "vc_scal=0.5,\\\n",
        "thr_x0=1d-10,\\\n",
        "dfit=1,direct=1,\\\n",
        "thr_overlap_ri=1d-10,thr_fai_ri=1d-10,\\\n",
        "plotp2=1,testp2=1,grid1='GridVal',grid1n=3000,grid2='GridRE',grid2n=2,ntestp2=100\n",
        "```\n",
        "\n",
        "\n",
        "---\n",
        "### References\n",
        "[1] Erhard et al, [Faraday Discuss.](https://pubs.rsc.org/en/content/articlelanding/fd/2020/d0fd00047g) 224 (2020) 79-97."
      ]
    },
    {
      "cell_type": "code",
      "metadata": {
        "id": "7YBvYs9EI6-r"
      },
      "source": [
        "# Upload processed output to Colab\n",
        "#from google.colab import files\n",
        "#files.upload()"
      ],
      "execution_count": null,
      "outputs": []
    },
    {
      "cell_type": "code",
      "metadata": {
        "id": "K7LIOzbIWjkm"
      },
      "source": [
        "# Unzip data\n",
        "#!unzip Outputs.zip"
      ],
      "execution_count": null,
      "outputs": []
    }
  ]
}